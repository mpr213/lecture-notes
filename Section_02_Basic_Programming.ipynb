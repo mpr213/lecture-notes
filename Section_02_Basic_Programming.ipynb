{
 "cells": [
  {
   "cell_type": "markdown",
   "metadata": {},
   "source": [
    "# Basic Programming\n",
    "\n",
    "- [Overview](#Overview)\n",
    "- [Simple Calculations](#Simple-Calculations)\n",
    "- [Name Assignment](#Name-Assignment)\n",
    "- [Python Namespace](#Python-Namespace)\n",
    "- [Importing Modules](#Importing-Modules)\n",
    "- [Documentation](#Documentation)\n",
    "- [Displaying Results](#Displaying-Results)\n",
    "- [Strings](#Strings)\n",
    "- [Recap](#Recap)\n"
   ]
  },
  {
   "cell_type": "markdown",
   "metadata": {},
   "source": [
    "## Note on startup:\n",
    "\n",
    "To run this notebook without the `IOPub data rate exceeded` error later in one of the cells, start Jupyter Notebook from an Anaconda Prompt, with the following:\n",
    "\n",
    "jupyter notebook --NotebookApp.iopub_data_rate_limit=1.0e10\n",
    "\n",
    "The figure below shows this, for a Windows 7 installation, where prior to issuing this command, in the first line, the default folder location has been changed with the DOS \"cd\" command, followed by hitting three \"Enter\"-s to get a clearer picture.\n",
    "\n",
    "<img src=\"figures\\anaconda-promp-start.PNG\" style=\"width: 800px;\"/>"
   ]
  },
  {
   "cell_type": "markdown",
   "metadata": {},
   "source": [
    "## Overview\n",
    "\n",
    "- Running / launching *Anaconda Navigator*\n",
    "\n",
    "\n",
    "- Overview on what you see on *Anaconda Navigator*\n",
    "    - Launching *Jupyter* and/or *Spyder*\n",
    "    - The *Learning* tab and documentation\n",
    "\n",
    "\n",
    "- *Anaconda Navigator* takes a while to start up\n",
    "  - Easier to launch *Jupyter* or *Spyder* via the Windows Menu\n",
    "\n",
    "\n",
    "- Overview on what you see in the *Jupyter Home* window\n",
    "    - *Files* and *directories* (**Home directory**)\n",
    "    - **Need to place course *Notebooks* in your Home directory**\n",
    "    - Creating a new *Notebook*\n",
    "\n",
    "\n",
    "- Running *Jupyter* from a specific folder:\n",
    "    - Open Windows Explorer $\\to$ Navigate to folder with *Jupyter Notebooks*\n",
    "    - Type `jupyter notebook` into *Address Bar* and hit `Enter`"
   ]
  },
  {
   "cell_type": "markdown",
   "metadata": {},
   "source": [
    "- Overview on what you see in a *Jupyter Notebook*\n",
    "    - `Cell`s $\\to$ `Code Cell`s vs `Markdown Cell`s\n",
    "    - Inserting, copying, and deleting (cut) `Cell`s\n",
    "    - Executing a `Code Cell`\n",
    "    - *Help* $\\to$ *User Interface Tour*\n",
    "    - *Help* $\\to$ Documentation\n",
    "    - Saving *Notebook*s\n",
    "\n",
    "\n",
    "- See \"getting started\" videos on ClickUP"
   ]
  },
  {
   "cell_type": "markdown",
   "metadata": {},
   "source": [
    "## Simple Calculations\n",
    "\n",
    "- Simple mathematics and operators $\\to$ `+ - * / ** ()`"
   ]
  },
  {
   "cell_type": "code",
   "execution_count": null,
   "metadata": {},
   "outputs": [],
   "source": [
    "10**2 * 1.8 / (5 + 0.2)"
   ]
  },
  {
   "cell_type": "markdown",
   "metadata": {},
   "source": [
    "- Python mathematics priority and grouping\n",
    "    - Grouping first $\\to$ `()`\n",
    "    - Power next $\\to$ `**`\n",
    "    - Multiplication and division next $\\to$ `* /`\n",
    "    - Addition and subtraction next $\\to$ `+ -`"
   ]
  },
  {
   "cell_type": "markdown",
   "metadata": {},
   "source": [
    "### Example - Constant acceleration motion\n",
    "\n",
    "- How long does an object fall from a 30$m$ height?\n",
    "    - $s_0 = 30 \\: m$ (initial height)\n",
    "    - $v_0 = 0 \\: m/s$ (initial velocity)\n",
    "    - $a = -9.81 \\: m/s^2$ (gravitational acceleration)\n",
    "    - $t = \\mathtt{Unknown} \\: s$ (time)\n",
    "    - Solve for $t$ and check the answer\n",
    "\n",
    "$$ \n",
    "\\begin{align}\n",
    "    a(t) &= \\text{const} \\\\\n",
    "    v(t) &= \\int a dt  =  v_0 + at \\\\\n",
    "    s(t) &= \\int v(t) dt = s_0 + v_0t + \\frac{1}{2} at^2\n",
    "\\end{align}\n",
    "$$"
   ]
  },
  {
   "cell_type": "markdown",
   "metadata": {},
   "source": [
    "- Solution (Mathematical):\n",
    "    $$\n",
    "    \\begin{align}\n",
    "        s(t) &= 30 + 0 \\times t + 0.5 \\times -9.81 \\times t^2 = 0 \\\\\n",
    "             &= 0.5 \\times -9.81 \\times t^2 + 0 \\times t + 30 = 0\\\\\n",
    "             &= a t^2 +bt + c = 0\n",
    "    \\end{align}\n",
    "    $$\n",
    "\n",
    "    $$ t = \\frac{-b \\pm \\sqrt{b^2 - 4ac}}{2a} $$\n",
    "    \n",
    "    $$\n",
    "    \\begin{align}\n",
    "        a &= 0.5 \\times -9.81 \\\\\n",
    "        b &= 0 \\\\\n",
    "        c &= 30\n",
    "    \\end{align}\n",
    "    $$"
   ]
  },
  {
   "cell_type": "code",
   "execution_count": null,
   "metadata": {},
   "outputs": [],
   "source": [
    "- (-4 * 0.5 * -9.81 * 30)**0.5 / (2 * 0.5 * -9.81)"
   ]
  },
  {
   "cell_type": "code",
   "execution_count": null,
   "metadata": {},
   "outputs": [],
   "source": [
    "+ (-4 * 0.5 * -9.81 * 30)**0.5 / (2 * 0.5 * -9.81)"
   ]
  },
  {
   "cell_type": "markdown",
   "metadata": {},
   "source": [
    "## Name Assignment\n",
    "\n",
    "### Example - Constant acceleration motion\n",
    "\n",
    "- Example of an object falling:\n",
    "    - $s_0 = 30 \\: m$ (initial height)\n",
    "    - $v_0 = 0 \\: m/s$ (initial velocity)\n",
    "    - $a = -9.81 \\: m/s^2$ (gravitational acceleration)\n",
    "    - $t = 1.5 \\: s$ (time)\n",
    "    - Calculate $v(t)$ and $s(t)$ without name assignment\n",
    "\n",
    "$$ \n",
    "\\begin{align}\n",
    "    a(t) &= \\text{const} \\\\\n",
    "    v(t) &= \\int a dt  =  v_0 + at \\\\\n",
    "    s(t) &= \\int v(t) dt = s_0 + v_0t + \\frac{1}{2} at^2\n",
    "\\end{align}\n",
    "$$"
   ]
  },
  {
   "cell_type": "code",
   "execution_count": null,
   "metadata": {},
   "outputs": [],
   "source": [
    "print(0 + -9.81 * 1.5)\n",
    "print(30 + 0.5 * -9.81 * 1.5**2)"
   ]
  },
  {
   "cell_type": "markdown",
   "metadata": {},
   "source": [
    "- Using *names* instead:"
   ]
  },
  {
   "cell_type": "code",
   "execution_count": null,
   "metadata": {},
   "outputs": [],
   "source": [
    "%load_ext nbtutor"
   ]
  },
  {
   "cell_type": "code",
   "execution_count": null,
   "metadata": {},
   "outputs": [],
   "source": [
    "%%nbtutor -r -f\n",
    "s0 = 30\n",
    "v0 = 0\n",
    "g = -9.81\n",
    "t = 1.5\n",
    "\n",
    "v = v0 + g * t\n",
    "s = s0 + v0 * t + 0.5 * g * t**2\n",
    "\n",
    "print(v)\n",
    "print(s)    "
   ]
  },
  {
   "cell_type": "markdown",
   "metadata": {},
   "source": [
    "- Why use name assignment\n",
    "    - Calculation results are lost after the computation\n",
    "    - Reference an answer of a calculation for later use\n",
    "    - More descriptive way to reference a value or answer of a calculation\n",
    "    - Easier to break up a complex calculation into smaller pieces\n",
    "    - Easier to read and understand a program / piece of code\n",
    "    - Less chance for mistakes - requires fewer changes\n",
    "    - Guides you to think more generally about the problem"
   ]
  },
  {
   "cell_type": "markdown",
   "metadata": {},
   "source": [
    "<img src=\"./figures/name_object_assignment.svg\" alt=\"Object Assignment\" style=\"height: 200px;\"/>\n",
    "\n",
    "- `LHS`: chosen name (e.g. `x`)\n",
    "\n",
    "\n",
    "- `RHS`: known objects / values (e.g. `7 + 3.3`)\n",
    "\n",
    "\n",
    "- `RHS` of $=$ operator is calculated first according to the mathematical priority discussed previously $\\to$ then LHS name is assigned to the answer\n",
    "\n",
    "\n",
    "- **`x = 10.3` not the same as `10.3 = x` !!!**\n",
    "\n",
    "\n",
    "- `10.3 = x` $\\to$ gives an error"
   ]
  },
  {
   "cell_type": "code",
   "execution_count": null,
   "metadata": {},
   "outputs": [],
   "source": [
    "x = 10.3  # Yes\n",
    "\n",
    "10.3 = x  # No !!"
   ]
  },
  {
   "cell_type": "markdown",
   "metadata": {},
   "source": [
    "### Acceptable names\n",
    "- Names are case sensitive $\\to$ `value1`, `VALUE1` and `VaLuE1` are distinct $\\to$ can be bound to the same or to different objects\n",
    "\n",
    "\n",
    "- Names should be lower case with words separated by underscores (E.g. `my_value` and not `My_Value`) $\\to$ **can't be seperated with spaces**\n",
    "\n",
    "\n",
    "- Names cannot not be any of the *Python* keywords"
   ]
  },
  {
   "cell_type": "code",
   "execution_count": null,
   "metadata": {},
   "outputs": [],
   "source": [
    "help('keywords')"
   ]
  },
  {
   "cell_type": "markdown",
   "metadata": {},
   "source": [
    "### Memory model"
   ]
  },
  {
   "cell_type": "code",
   "execution_count": null,
   "metadata": {},
   "outputs": [],
   "source": [
    "%%nbtutor -r -f\n",
    "foo = 1\n",
    "bar = 2\n",
    "\n",
    "eggs = foo + bar\n",
    "\n",
    "# update foo and bar\n",
    "foo = 10\n",
    "bar = 20\n",
    "\n",
    "# re-compute eggs\n",
    "eggs = foo + bar"
   ]
  },
  {
   "cell_type": "markdown",
   "metadata": {},
   "source": [
    "### Memory model"
   ]
  },
  {
   "cell_type": "code",
   "execution_count": null,
   "metadata": {},
   "outputs": [],
   "source": [
    "%%nbtutor -r -f\n",
    "foo = 2.2\n",
    "bar = foo + 3.2\n",
    "\n",
    "foo = 4.2\n",
    "bar = foo + 3.2"
   ]
  },
  {
   "cell_type": "markdown",
   "metadata": {},
   "source": [
    "## Python Namespace\n",
    "\n",
    "- Space / place where a name is created / defined\n",
    "- Consider as a blank piece of paper\n",
    "- Each notebook has its own piece of paper (*global namespace*)\n",
    "- Every name defined (when executing a cell) $\\to$ puts the name on the piece of paper\n",
    "- View all names and their objects $\\to$ `%whos`"
   ]
  },
  {
   "cell_type": "code",
   "execution_count": null,
   "metadata": {},
   "outputs": [],
   "source": [
    "%whos"
   ]
  },
  {
   "cell_type": "markdown",
   "metadata": {},
   "source": [
    "- Clear the *Python* namespace\n",
    "    - Restart the kernel, or\n",
    "    - Execute `%reset -f` in a code cell"
   ]
  },
  {
   "cell_type": "code",
   "execution_count": null,
   "metadata": {},
   "outputs": [],
   "source": [
    "%reset -f\n",
    "%whos"
   ]
  },
  {
   "cell_type": "code",
   "execution_count": null,
   "metadata": {},
   "outputs": [],
   "source": [
    "foo = 10"
   ]
  },
  {
   "cell_type": "code",
   "execution_count": null,
   "metadata": {},
   "outputs": [],
   "source": [
    "bar = foo + 100"
   ]
  },
  {
   "cell_type": "code",
   "execution_count": null,
   "metadata": {},
   "outputs": [],
   "source": [
    "%whos"
   ]
  },
  {
   "cell_type": "markdown",
   "metadata": {},
   "source": [
    "### Example - Execution Order"
   ]
  },
  {
   "cell_type": "code",
   "execution_count": null,
   "metadata": {},
   "outputs": [],
   "source": [
    "# Code Cell One\n",
    "this = 100"
   ]
  },
  {
   "cell_type": "code",
   "execution_count": null,
   "metadata": {},
   "outputs": [],
   "source": [
    "# Code Cell Two\n",
    "other = this + that\n",
    "print(other)"
   ]
  },
  {
   "cell_type": "code",
   "execution_count": null,
   "metadata": {},
   "outputs": [],
   "source": [
    "# Code Cell Three\n",
    "that = 1.5"
   ]
  },
  {
   "cell_type": "markdown",
   "metadata": {},
   "source": [
    "- Execution order: `One`, `Two`, then `Three` $\\to$ Error $\\to$ Name `that` not defined\n",
    "- Execution order: `One`, `Three`, then `Two` $\\to$ Works !!"
   ]
  },
  {
   "cell_type": "markdown",
   "metadata": {},
   "source": [
    "- **Very dangerous and may lead to unexpected behavior if not careful.**\n",
    "- **Highly recommended you create independant *Code Cell*s**\n",
    "- **\"Out of order\" execution excuses for tests and exams will not be accepted !!**\n",
    "- **Kernel -> Restart & Run All: Executes the cells from top to bottom. For tests and exams, your code must work when Kernel -> Restart & Run All is executed.**"
   ]
  },
  {
   "cell_type": "markdown",
   "metadata": {},
   "source": [
    "## Displaying Results\n",
    "\n",
    "- How to display the results of our calculation to the screen without interacting with the Python interpreter?\n",
    "\n",
    "\n",
    "- Using the `print()` function $\\to$ print information from Python:"
   ]
  },
  {
   "cell_type": "code",
   "execution_count": null,
   "metadata": {},
   "outputs": [],
   "source": [
    "s0 = 30\n",
    "v0 = 0\n",
    "g = -9.81\n",
    "t = 1.5\n",
    "\n",
    "v = v0 + g * t\n",
    "s = s0 + v0 * t + 0.5 * g * t**2\n",
    "\n",
    "print(v)\n",
    "print(s)"
   ]
  },
  {
   "cell_type": "markdown",
   "metadata": {},
   "source": [
    "- What about displaying more meaningful feedback?\n",
    "\n",
    "\n",
    "- Maybe something like:\n",
    "    - `\"After 1 second the object’s position is 25.095m above the ground with a velocity of 0.981m/s\"`\n",
    "\n",
    "\n",
    "- For this we need to use strings and string operations."
   ]
  },
  {
   "cell_type": "markdown",
   "metadata": {},
   "source": [
    "## Importing Modules\n",
    "\n",
    "- What about additional functionality?\n",
    "\n",
    "\n",
    "- More complex calculations?\n",
    "\n",
    "\n",
    "- Import modules and functions\n",
    "    - What is a module? $\\to$ visualise as a filling cabinet\n",
    "    - Filing cabinet (module) stores or contains functions\n",
    "    - Why are modules needed? $\\to$ used to organise and store functions under a certain category $\\to$ easier to find and use the correct function for a given task.\n",
    "    - Each filing cabinet (module) contains functions for a specific category $\\to$ `numpy` module has numerical functions for scalar values and arrays\n",
    "    - The same function name can be used in different categories e.g. symbolic sin() function in sympy versus numeric sin() function in numpy.\n",
    "\n",
    "\n",
    "- Importing the `numpy` module:"
   ]
  },
  {
   "cell_type": "code",
   "execution_count": null,
   "metadata": {},
   "outputs": [],
   "source": [
    "import numpy\n",
    "%whos"
   ]
  },
  {
   "cell_type": "code",
   "execution_count": null,
   "metadata": {},
   "outputs": [],
   "source": [
    "sqrt(4)"
   ]
  },
  {
   "cell_type": "code",
   "execution_count": null,
   "metadata": {},
   "outputs": [],
   "source": [
    "numpy.sqrt(4)"
   ]
  },
  {
   "cell_type": "code",
   "execution_count": null,
   "metadata": {},
   "outputs": [],
   "source": [
    "%reset -f\n",
    "%whos"
   ]
  },
  {
   "cell_type": "code",
   "execution_count": null,
   "metadata": {},
   "outputs": [],
   "source": [
    "import numpy as np\n",
    "%whos"
   ]
  },
  {
   "cell_type": "code",
   "execution_count": null,
   "metadata": {},
   "outputs": [],
   "source": [
    "np.sqrt(4)"
   ]
  },
  {
   "cell_type": "code",
   "execution_count": null,
   "metadata": {},
   "outputs": [],
   "source": [
    "%reset -f\n",
    "%whos"
   ]
  },
  {
   "cell_type": "markdown",
   "metadata": {},
   "source": [
    "-   Importing functions from the numpy module"
   ]
  },
  {
   "cell_type": "code",
   "execution_count": null,
   "metadata": {},
   "outputs": [],
   "source": [
    "from numpy import sin, cos, radians"
   ]
  },
  {
   "cell_type": "code",
   "execution_count": null,
   "metadata": {},
   "outputs": [],
   "source": [
    "whos"
   ]
  },
  {
   "cell_type": "code",
   "execution_count": null,
   "metadata": {},
   "outputs": [],
   "source": [
    "sin(radians(30))"
   ]
  },
  {
   "cell_type": "markdown",
   "metadata": {},
   "source": [
    "- When to use which import style?\n",
    "    - import the module when using many different functions from that module\n",
    "    - import functions from the module when using specific functions many times."
   ]
  },
  {
   "cell_type": "markdown",
   "metadata": {},
   "source": [
    "### Example - Double angle formula\n",
    "- Double angle formula ($\\theta = 10$ degrees)\n",
    "- Degrees to radians ($\\frac{180}{\\pi}$). Why?\n",
    "    $$\n",
    "    \\begin{align}\n",
    "        \\sin(2 \\theta) &= 2 \\sin(\\theta) \\cos(\\theta) \\\\\n",
    "        \\cos(2 \\theta) &= \\cos^2(\\theta) - \\sin^2(\\theta) \\\\\n",
    "        \\tan(2 \\theta) &= \\frac{2 \\tan(\\theta)}{1 - \\tan^2(\\theta)}\n",
    "    \\end{align}\n",
    "    $$\n",
    "- Note: Grouping () can be used to split the calculation over multiple lines for easier reading."
   ]
  },
  {
   "cell_type": "code",
   "execution_count": null,
   "metadata": {},
   "outputs": [],
   "source": [
    "%reset -f\n",
    "%whos"
   ]
  },
  {
   "cell_type": "code",
   "execution_count": null,
   "metadata": {},
   "outputs": [],
   "source": [
    "import numpy as np\n",
    "\n",
    "# sin double angle\n",
    "print(np.sin(2 * np.radians(10)))\n",
    "print(2 * np.sin(np.radians(10)) * np.cos(np.radians(10)))"
   ]
  },
  {
   "cell_type": "code",
   "execution_count": null,
   "metadata": {},
   "outputs": [],
   "source": [
    "from numpy import cos, sin, tan, radians\n",
    "\n",
    "# cos double angle\n",
    "print(cos(2 * radians(10)))\n",
    "print(cos(radians(10))**2 - sin(radians(10))**2)\n",
    "print()\n",
    "\n",
    "# tan double angle\n",
    "lhs = tan(2 * radians(10))\n",
    "rhs = (\n",
    "    2 * tan(radians(10)) / \n",
    "    (1 - tan(radians(10))**2)\n",
    ")  # brackets used to split long calculation over multiple lines\n",
    "print(lhs)\n",
    "print(rhs)"
   ]
  },
  {
   "cell_type": "markdown",
   "metadata": {},
   "source": [
    "## Documentation\n",
    "\n",
    "- How do I find all the functions available in a module?\n",
    "\n",
    "- How do I find out how to use a function and what it does?\n",
    "\n",
    "- Using the `help()` function in *Python*\n",
    "\n",
    "- Using the `numpy.info()` function\n",
    "\n",
    "- Using the `numpy.lookfor('keyword')` function"
   ]
  },
  {
   "cell_type": "code",
   "execution_count": null,
   "metadata": {
    "scrolled": true
   },
   "outputs": [],
   "source": [
    "import numpy\n",
    "\n",
    "help(numpy)"
   ]
  },
  {
   "cell_type": "code",
   "execution_count": null,
   "metadata": {
    "scrolled": true
   },
   "outputs": [],
   "source": [
    "%whos"
   ]
  },
  {
   "cell_type": "markdown",
   "metadata": {},
   "source": [
    "From `help(numpy)`:\n",
    "> \"For some objects, `np.info(obj)` may provide additional help.\n",
    "> This is particularly true if you see the line \"Help on ``ufunc`` object:\" at the top of the `help()` page.\n",
    "> ``ufunc``'s are implemented in C, not Python, for speed.\n",
    "> The native Python `help()` does not know how to view their help, but our `np.info()` function does.\""
   ]
  },
  {
   "cell_type": "code",
   "execution_count": null,
   "metadata": {},
   "outputs": [],
   "source": [
    "import numpy as np\n",
    "\n",
    "np.info(np.sin)"
   ]
  },
  {
   "cell_type": "markdown",
   "metadata": {},
   "source": [
    "From `help(numpy)`:\n",
    "> To search for documents containing a keyword, do:\n",
    ">> `np.lookfor('keyword')`"
   ]
  },
  {
   "cell_type": "code",
   "execution_count": null,
   "metadata": {
    "scrolled": true
   },
   "outputs": [],
   "source": [
    "import numpy as np\n",
    "\n",
    "np.lookfor('cos')"
   ]
  },
  {
   "cell_type": "markdown",
   "metadata": {},
   "source": [
    "## Strings\n",
    "\n",
    "- String objects $\\to$ Created using two quotation marks\n",
    "    - `msg = \"hello\"`\n",
    "\n",
    "\n",
    "- Used mainly for displaying feedback from Python and for data handling (discussed later in the course)\n",
    "\n",
    "\n",
    "- String format:\n",
    "    - Create a string with \"place holders\" $\\to$ `{}`\n",
    "    - Use the `.format()` function to substitute the \"place holders\" with values\n",
    "\n",
    "\n",
    "- Illustrative Example:"
   ]
  },
  {
   "cell_type": "code",
   "execution_count": null,
   "metadata": {},
   "outputs": [],
   "source": [
    "msg = \"x = {}, y = {}\"\n",
    "print(msg)\n",
    "\n",
    "a = 10\n",
    "b = 0.5\n",
    "thing = msg.format(a, b)\n",
    "print(type(thing))\n",
    "print(thing)"
   ]
  },
  {
   "cell_type": "markdown",
   "metadata": {},
   "source": [
    "### Example - Constant acceleration motion\n",
    "\n",
    "- Example of an object falling:\n",
    "    - $s_0 = 30 \\: m$ (initial height)\n",
    "    - $v_0 = 0 \\: m/s$ (initial velocity)\n",
    "    - $a = -9.81 \\: m/s^2$ (gravitational acceleration)\n",
    "    - $t = 1.5 \\: s$ (time)\n",
    "    - Calculate $v(t)$ and $s(t)$ without name assignment\n",
    "    - Give meaningful feedback to the user\n",
    "\n",
    "$$ \n",
    "\\begin{align}\n",
    "    a(t) &= \\text{const} \\\\\n",
    "    v(t) &= \\int a dt  =  v_0 + at \\\\\n",
    "    s(t) &= \\int v(t) dt = s_0 + v_0t + \\frac{1}{2} at^2\n",
    "\\end{align}\n",
    "$$\n",
    "\n",
    "### Outcomes:\n",
    "\n",
    "- String `.format()` function and order on inputs\n",
    "- Splitting a long string over multiple lines"
   ]
  },
  {
   "cell_type": "code",
   "execution_count": null,
   "metadata": {},
   "outputs": [],
   "source": [
    "s0 = 30 \n",
    "v0 = 0 \n",
    "g = -9.81\n",
    "t = 1.5\n",
    "\n",
    "v = v0 + g * t\n",
    "s = s0 + v0 * t + 0.5 * g * t**2\n",
    "\n",
    "msg = (\n",
    "    \"After {} seconds, the object’s position \"\n",
    "    \"is {} m above the ground with a velocity \"\n",
    "    \"of {} m/s\"\n",
    ")\n",
    "\n",
    "thing = msg.format(t, s, v)\n",
    "print(thing)"
   ]
  },
  {
   "cell_type": "markdown",
   "metadata": {},
   "source": [
    "## Recap\n",
    "\n",
    "- Mathematics\n",
    "    - Operators: `() + - * / **`\n",
    "    - Priority: `()` then `**` then `* /` then `+ -`"
   ]
  },
  {
   "cell_type": "markdown",
   "metadata": {},
   "source": [
    "- Importing modules\n",
    "    - `import numpy`\n",
    "    - `from numpy import cos, sin`\n",
    "    - add additional functions for use in the program\n",
    "    - only import the modules / functions needed\n",
    "    - used `help` function for documentation\n",
    "        - `help(numpy)`\n",
    "        - `help(numpy.sin)`"
   ]
  },
  {
   "cell_type": "markdown",
   "metadata": {},
   "source": [
    "- `()` brackets\n",
    "    - Used for grouping calculations / operations together\n",
    "    - Can be used to split long lines of code over multiple lines\n",
    "    - Used for calling / using functions and methods $\\to$ `numpy.radians(90)`"
   ]
  },
  {
   "cell_type": "markdown",
   "metadata": {},
   "source": [
    "- Name assignment\n",
    "    - `name = object`\n",
    "    - Used to reference on object / answer of a calculation"
   ]
  },
  {
   "cell_type": "code",
   "execution_count": null,
   "metadata": {},
   "outputs": [],
   "source": [
    "x = (12.3 + 4)**2\n",
    "y = x / 2.0\n",
    "msg = \"x = {}, y = {}\"\n",
    "print(msg.format(x, y))"
   ]
  },
  {
   "cell_type": "markdown",
   "metadata": {},
   "source": [
    "### Recap Quiz\n",
    "\n",
    "- Recap Quiz – Name Assignment:\n",
    "    - You want to add the numbers 1 to 10, term by term using one name to reference the answer.\n",
    "        - How can you do it?\n",
    "    - The names `number1` and `number2` each reference the integer objects 17 and 3 respectively. You want `number1` to reference the integer object 3 and `number2` to reference the integer object 17.\n",
    "        - Discuss two possible approaches to do this."
   ]
  },
  {
   "cell_type": "code",
   "execution_count": null,
   "metadata": {},
   "outputs": [],
   "source": []
  }
 ],
 "metadata": {
  "anaconda-cloud": {},
  "celltoolbar": "Visualize",
  "kernelspec": {
   "display_name": "Python 3",
   "language": "python",
   "name": "python3"
  },
  "language_info": {
   "codemirror_mode": {
    "name": "ipython",
    "version": 3
   },
   "file_extension": ".py",
   "mimetype": "text/x-python",
   "name": "python",
   "nbconvert_exporter": "python",
   "pygments_lexer": "ipython3",
   "version": "3.6.5"
  },
  "nbpresent": {
   "slides": {},
   "themes": {
    "default": "5c99f935-a497-4a96-95fc-0c35ccd4a54a",
    "theme": {}
   }
  }
 },
 "nbformat": 4,
 "nbformat_minor": 1
}
